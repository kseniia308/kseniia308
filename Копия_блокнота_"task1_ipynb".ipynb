{
  "nbformat": 4,
  "nbformat_minor": 0,
  "metadata": {
    "colab": {
      "provenance": []
    },
    "kernelspec": {
      "name": "python3",
      "display_name": "Python 3"
    },
    "language_info": {
      "name": "python"
    }
  },
  "cells": [
    {
      "cell_type": "code",
      "source": [
        "!git clone https://github.com/kseniia308/Hausaufgaben.git"
      ],
      "metadata": {
        "id": "3BN_tdB4wQ3K",
        "colab": {
          "base_uri": "https://localhost:8080/"
        },
        "outputId": "cbdfd78f-7c3c-4d5c-e9af-429fbdf9fb6b"
      },
      "execution_count": null,
      "outputs": [
        {
          "output_type": "stream",
          "name": "stdout",
          "text": [
            "Cloning into 'Hausaufgaben'...\n",
            "warning: You appear to have cloned an empty repository.\n"
          ]
        }
      ]
    },
    {
      "cell_type": "code",
      "execution_count": null,
      "metadata": {
        "id": "qOV56JnR9LKK"
      },
      "outputs": [],
      "source": [
        "class Test:\n",
        "    @staticmethod\n",
        "    def assert_equals(a, b, *args, **kwargs):\n",
        "        assert a == b\n",
        "        print('Passed')"
      ]
    },
    {
      "cell_type": "markdown",
      "source": [
        "Problem: https://edabit.com/challenge/cXnkmRdxqJrwdsP4n"
      ],
      "metadata": {
        "id": "-W9l0Tr5-Shc"
      }
    },
    {
      "cell_type": "code",
      "source": [
        "def dis(x, y):\n",
        "  return (x*(100 - y))/100"
      ],
      "metadata": {
        "id": "ys8E2Ds0-cFi"
      },
      "execution_count": null,
      "outputs": []
    },
    {
      "cell_type": "code",
      "source": [
        "Test.assert_equals(dis(100, 75), 25)\n",
        "Test.assert_equals(dis(211, 50), 105.5)\n",
        "Test.assert_equals(dis(593, 61), 231.27)\n",
        "Test.assert_equals(dis(1693, 80), 338.6)\n",
        "Test.assert_equals(dis(700, 10), 630)"
      ],
      "metadata": {
        "colab": {
          "base_uri": "https://localhost:8080/"
        },
        "id": "g3H_YpPX_Fs6",
        "outputId": "73b0a8dd-71c1-480f-c2e5-2226f351a09c"
      },
      "execution_count": null,
      "outputs": [
        {
          "output_type": "stream",
          "name": "stdout",
          "text": [
            "Passed\n",
            "Passed\n",
            "Passed\n",
            "Passed\n",
            "Passed\n"
          ]
        }
      ]
    },
    {
      "cell_type": "markdown",
      "source": [
        "Problem: https://edabit.com/challenge/2X2uZysLJ3CpsxLDD"
      ],
      "metadata": {
        "id": "bxFVBlv3SfaA"
      }
    },
    {
      "cell_type": "code",
      "source": [
        "from math import pi\n",
        "def radians_to_degrees(rad):\n",
        "    deg = (rad * 180)/pi\n",
        "    return round(deg, 1)\n"
      ],
      "metadata": {
        "id": "uV30YGItSlcL"
      },
      "execution_count": null,
      "outputs": []
    },
    {
      "cell_type": "code",
      "source": [
        "Test.assert_equals(radians_to_degrees(1), 57.3)\n",
        "Test.assert_equals(radians_to_degrees(5), 286.5)\n",
        "Test.assert_equals(radians_to_degrees(7), 401.1)\n",
        "Test.assert_equals(radians_to_degrees(60), 3437.7)\n",
        "Test.assert_equals(radians_to_degrees(100), 5729.6)\n",
        "Test.assert_equals(radians_to_degrees(180), 10313.2)"
      ],
      "metadata": {
        "colab": {
          "base_uri": "https://localhost:8080/"
        },
        "id": "RmvnBWMLUXWY",
        "outputId": "0fedf044-80e3-4946-89d5-17286c5e6b18"
      },
      "execution_count": null,
      "outputs": [
        {
          "output_type": "stream",
          "name": "stdout",
          "text": [
            "Passed\n",
            "Passed\n",
            "Passed\n",
            "Passed\n",
            "Passed\n",
            "Passed\n"
          ]
        }
      ]
    },
    {
      "cell_type": "markdown",
      "source": [
        "Problem: https://edabit.com/challenge/HYjQKDXFfeppcWmLX"
      ],
      "metadata": {
        "id": "QkKxaSf3VFoI"
      }
    },
    {
      "cell_type": "code",
      "source": [
        "def is_curzon(num):\n",
        "    a = 1 + pow(2, num)\n",
        "    b = 1 + (2*num)\n",
        "    if (a%b)==0:\n",
        "      return True\n",
        "    else:\n",
        "      return False"
      ],
      "metadata": {
        "id": "KADAv_01VH-D"
      },
      "execution_count": null,
      "outputs": []
    },
    {
      "cell_type": "code",
      "source": [
        "Test.assert_equals(is_curzon(5), True)\n",
        "Test.assert_equals(is_curzon(10), False)\n",
        "Test.assert_equals(is_curzon(14), True)\n",
        "Test.assert_equals(is_curzon(86), True)\n",
        "Test.assert_equals(is_curzon(90), True)\n",
        "Test.assert_equals(is_curzon(115), False)\n",
        "Test.assert_equals(is_curzon(120), False)\n",
        "Test.assert_equals(is_curzon(194), True)\n",
        "Test.assert_equals(is_curzon(293), True)"
      ],
      "metadata": {
        "colab": {
          "base_uri": "https://localhost:8080/"
        },
        "id": "9yC_dsaAWGq-",
        "outputId": "113df98a-a660-4604-b6c4-328b4fe6b5f6"
      },
      "execution_count": null,
      "outputs": [
        {
          "output_type": "stream",
          "name": "stdout",
          "text": [
            "Passed\n",
            "Passed\n",
            "Passed\n",
            "Passed\n",
            "Passed\n",
            "Passed\n",
            "Passed\n",
            "Passed\n",
            "Passed\n"
          ]
        }
      ]
    },
    {
      "cell_type": "markdown",
      "source": [
        "Problem: https://edabit.com/challenge/FF6kYPHdAcJnoosr5"
      ],
      "metadata": {
        "id": "Clk9YHtkWhqM"
      }
    },
    {
      "cell_type": "code",
      "source": [
        "def factorial(x):\n",
        "  res = 1\n",
        "  for n in range(1, x+1):\n",
        "    res = res*n\n",
        "  return res"
      ],
      "metadata": {
        "id": "j7DqmHcqWjoI"
      },
      "execution_count": null,
      "outputs": []
    },
    {
      "cell_type": "code",
      "source": [
        "Test.assert_equals(factorial(2), 2)\n",
        "Test.assert_equals(factorial(6), 720)\n",
        "Test.assert_equals(factorial(3), 6)\n",
        "Test.assert_equals(factorial(12), 479001600)\n",
        "Test.assert_equals(factorial(5), 120)"
      ],
      "metadata": {
        "colab": {
          "base_uri": "https://localhost:8080/"
        },
        "id": "FIfi13aqXGH4",
        "outputId": "9ac2f672-e95b-4887-b215-af93a1c9cb8b"
      },
      "execution_count": null,
      "outputs": [
        {
          "output_type": "stream",
          "name": "stdout",
          "text": [
            "Passed\n",
            "Passed\n",
            "Passed\n",
            "Passed\n",
            "Passed\n"
          ]
        }
      ]
    },
    {
      "cell_type": "markdown",
      "source": [
        "Problem: https://edabit.com/challenge/jzCGNwLpmrHQKmtyJ"
      ],
      "metadata": {
        "id": "n7UvAGfOXgz4"
      }
    },
    {
      "cell_type": "code",
      "source": [
        "def sum_of_digits(x):\n",
        "    if x < 10:\n",
        "      return x\n",
        "    else:\n",
        "      return (x%10) + sum_of_digits(x//10)\n",
        "\n",
        "def parity_analysis(x):\n",
        "    xx = x%2\n",
        "    y = sum_of_digits(x)\n",
        "    yy = y%2\n",
        "    if xx == yy:\n",
        "      return True\n",
        "    else:\n",
        "      return False"
      ],
      "metadata": {
        "id": "KD888touXjXL"
      },
      "execution_count": null,
      "outputs": []
    },
    {
      "cell_type": "code",
      "source": [
        "Test.assert_equals(parity_analysis(243), True)\n",
        "Test.assert_equals(parity_analysis(12), False)\n",
        "Test.assert_equals(parity_analysis(3), True)\n",
        "Test.assert_equals(parity_analysis(5), True)\n",
        "Test.assert_equals(parity_analysis(4), True)\n",
        "Test.assert_equals(parity_analysis(3453), True)\n",
        "Test.assert_equals(parity_analysis(0), True)\n",
        "Test.assert_equals(parity_analysis(123456789), True)\n",
        "Test.assert_equals(parity_analysis(987654321), True)\n",
        "Test.assert_equals(parity_analysis(13), False)\n",
        "Test.assert_equals(parity_analysis(37), False)\n",
        "Test.assert_equals(parity_analysis(182), False)\n",
        "Test.assert_equals(parity_analysis(133331), False)"
      ],
      "metadata": {
        "colab": {
          "base_uri": "https://localhost:8080/"
        },
        "id": "R7OPhRXLZfNO",
        "outputId": "64339534-a348-4883-c8b9-f96e8f6f1442"
      },
      "execution_count": null,
      "outputs": [
        {
          "output_type": "stream",
          "name": "stdout",
          "text": [
            "Passed\n",
            "Passed\n",
            "Passed\n",
            "Passed\n",
            "Passed\n",
            "Passed\n",
            "Passed\n",
            "Passed\n",
            "Passed\n",
            "Passed\n",
            "Passed\n",
            "Passed\n",
            "Passed\n"
          ]
        }
      ]
    },
    {
      "cell_type": "markdown",
      "source": [
        "Problem: https://edabit.com/challenge/2zKetgAJp4WRFXiDT"
      ],
      "metadata": {
        "id": "geSHruucbFHN"
      }
    },
    {
      "cell_type": "code",
      "source": [
        "def number_length(x):\n",
        "  if x==0:\n",
        "    return 1\n",
        "  len = 0\n",
        "  while x!=0:\n",
        "    x = x//10\n",
        "    len+=1\n",
        "  return len\n"
      ],
      "metadata": {
        "id": "CWtKcwsUbHLE"
      },
      "execution_count": null,
      "outputs": []
    },
    {
      "cell_type": "code",
      "source": [
        "Test.assert_equals(number_length(10), 2)\n",
        "Test.assert_equals(number_length(5000), 4)\n",
        "Test.assert_equals(number_length(0), 1)\n",
        "Test.assert_equals(number_length(4039182), 7)\n",
        "Test.assert_equals(number_length(9999999999999999), 16)\n",
        "Test.assert_equals(number_length(1), 1)\n",
        "Test.assert_equals(number_length(777777777777777777777777777777), 30)"
      ],
      "metadata": {
        "colab": {
          "base_uri": "https://localhost:8080/"
        },
        "id": "wYs_COJSbda7",
        "outputId": "829010fc-278f-43c7-dbe1-a72fd746d5f5"
      },
      "execution_count": null,
      "outputs": [
        {
          "output_type": "stream",
          "name": "stdout",
          "text": [
            "Passed\n",
            "Passed\n",
            "Passed\n",
            "Passed\n",
            "Passed\n",
            "Passed\n",
            "Passed\n"
          ]
        }
      ]
    },
    {
      "cell_type": "markdown",
      "source": [
        "Problem: https://edabit.com/challenge/5XXXppAdfcGaootD9"
      ],
      "metadata": {
        "id": "OTnSm8j9f-Hs"
      }
    },
    {
      "cell_type": "code",
      "source": [
        "def sum_odd(spisok):\n",
        "  res = 0\n",
        "  for i in range(0, len(spisok)):\n",
        "    if spisok[i]%2 == 1:\n",
        "      res+=spisok[i]\n",
        "  return res\n",
        "\n",
        "def sum_even(spisok):\n",
        "  res = 0\n",
        "  for i in range(0, len(spisok)):\n",
        "    if spisok[i]%2 == 0:\n",
        "      res += spisok[i]\n",
        "  return res\n",
        "\n",
        "def sum_odd_and_even(spisok):\n",
        "  res = []\n",
        "  odd = sum_odd(spisok)\n",
        "  even = sum_even(spisok)\n",
        "  res.append(even)\n",
        "  res.append(odd)\n",
        "  return res\n",
        "\n"
      ],
      "metadata": {
        "colab": {
          "base_uri": "https://localhost:8080/"
        },
        "id": "9n0HhI6igB3q",
        "outputId": "1c6dd692-c526-450b-b394-216272146a11"
      },
      "execution_count": null,
      "outputs": [
        {
          "output_type": "stream",
          "name": "stdout",
          "text": [
            "[12, 9]\n"
          ]
        }
      ]
    },
    {
      "cell_type": "code",
      "source": [
        "Test.assert_equals(sum_odd_and_even([1, 2, 3, 4, 5, 6]), [12, 9])\n",
        "Test.assert_equals(sum_odd_and_even([-1, -2, -3, -4, -5, -6]), [-12, -9])\n",
        "Test.assert_equals(sum_odd_and_even([0, 0]), [0, 0])\n",
        "Test.assert_equals(sum_odd_and_even([]), [0, 0])"
      ],
      "metadata": {
        "colab": {
          "base_uri": "https://localhost:8080/"
        },
        "id": "i5_1niusiQLZ",
        "outputId": "5d35c7c0-98b9-49a0-ab77-1fcdb3f23d12"
      },
      "execution_count": null,
      "outputs": [
        {
          "output_type": "stream",
          "name": "stdout",
          "text": [
            "Passed\n",
            "Passed\n",
            "Passed\n",
            "Passed\n"
          ]
        }
      ]
    },
    {
      "cell_type": "markdown",
      "source": [
        "Problem: https://edabit.com/challenge/3Ekam9jvbNKHDtx4K"
      ],
      "metadata": {
        "id": "fZwFu_aIkzkS"
      }
    },
    {
      "cell_type": "code",
      "source": [
        "def line_length(x, y):\n",
        "  res = pow(y[0] - x[0], 2) + pow(y[1] - x[1], 2)\n",
        "  res = pow(res, 0.5)\n",
        "  return round(res, 2)\n",
        "\n"
      ],
      "metadata": {
        "id": "MejNUzN-k1a0"
      },
      "execution_count": null,
      "outputs": []
    },
    {
      "cell_type": "code",
      "source": [
        "Test.assert_equals(line_length([15, 7], [22, 11]), 8.06)\n",
        "Test.assert_equals(line_length([0, 0], [0, 0]), 0)\n",
        "Test.assert_equals(line_length([0, 0], [1, 1]), 1.41)\n",
        "Test.assert_equals(line_length([30, 10], [13, -5]), 22.67)"
      ],
      "metadata": {
        "colab": {
          "base_uri": "https://localhost:8080/"
        },
        "id": "gzw4q3wSlgRu",
        "outputId": "7a47e260-da17-4999-c726-24f3115ba3fc"
      },
      "execution_count": null,
      "outputs": [
        {
          "output_type": "stream",
          "name": "stdout",
          "text": [
            "Passed\n",
            "Passed\n",
            "Passed\n",
            "Passed\n"
          ]
        }
      ]
    },
    {
      "cell_type": "markdown",
      "source": [
        "Problem: https://edabit.com/challenge/2bTdN8sr3PQKkLHur"
      ],
      "metadata": {
        "id": "xm-aWyp1m9Vj"
      }
    },
    {
      "cell_type": "code",
      "source": [
        "def divisible_by_b(a, b):\n",
        "  if a%b == 0:\n",
        "    return a\n",
        "  while a%b != 0:\n",
        "    a+=1\n",
        "  return a"
      ],
      "metadata": {
        "id": "nMknEwLJm--3"
      },
      "execution_count": null,
      "outputs": []
    },
    {
      "cell_type": "code",
      "source": [
        "Test.assert_equals(divisible_by_b(17, 8), 24)\n",
        "Test.assert_equals(divisible_by_b(98, 3), 99)\n",
        "Test.assert_equals(divisible_by_b(14, 11), 22)\n",
        "Test.assert_equals(divisible_by_b(11, 8), 16)\n",
        "Test.assert_equals(divisible_by_b(450, 36), 468)\n",
        "Test.assert_equals(divisible_by_b(1019, 13), 1027)"
      ],
      "metadata": {
        "colab": {
          "base_uri": "https://localhost:8080/"
        },
        "id": "RHvocu6BnyDJ",
        "outputId": "02c6fa10-0e4f-453c-831d-e95c4cf3c7a3"
      },
      "execution_count": null,
      "outputs": [
        {
          "output_type": "stream",
          "name": "stdout",
          "text": [
            "Passed\n",
            "Passed\n",
            "Passed\n",
            "Passed\n",
            "Passed\n",
            "Passed\n"
          ]
        }
      ]
    },
    {
      "cell_type": "markdown",
      "source": [
        "Problem: https://edabit.com/challenge/o2AKq4xy3nfZabKXL"
      ],
      "metadata": {
        "id": "gKaw0vY0oEph"
      }
    },
    {
      "cell_type": "code",
      "source": [
        "def solutions(a, b, c):\n",
        "  d = pow(b, 2) - 4*a*c\n",
        "  if d > 0:\n",
        "    return 2\n",
        "  elif d < 0:\n",
        "    return 0\n",
        "  else:\n",
        "    return 1\n"
      ],
      "metadata": {
        "id": "HFjU46SxoGZH"
      },
      "execution_count": null,
      "outputs": []
    },
    {
      "cell_type": "code",
      "source": [
        "Test.assert_equals(solutions(1, 0, -1), 2)\n",
        "Test.assert_equals(solutions(1, 0, 0), 1)\n",
        "Test.assert_equals(solutions(1, 0, 1), 0)\n",
        "Test.assert_equals(solutions(200, 420, 800), 0)\n",
        "Test.assert_equals(solutions(200, 420, -800), 2)\n",
        "Test.assert_equals(solutions(1000, 1000, 0), 2)\n",
        "Test.assert_equals(solutions(10000, 400, 4), 1)"
      ],
      "metadata": {
        "id": "BxEakbg0pEGU",
        "outputId": "5788312f-3a36-4b5d-8004-5991743c6413",
        "colab": {
          "base_uri": "https://localhost:8080/"
        }
      },
      "execution_count": null,
      "outputs": [
        {
          "output_type": "stream",
          "name": "stdout",
          "text": [
            "Passed\n",
            "Passed\n",
            "Passed\n",
            "Passed\n",
            "Passed\n",
            "Passed\n",
            "Passed\n"
          ]
        }
      ]
    }
  ]
}